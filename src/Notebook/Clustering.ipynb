{
 "cells": [
  {
   "cell_type": "markdown",
   "metadata": {},
   "source": [
    "# OpenAI.Clustering with .NET\n",
    "\n",
    "## Intro\n",
    "\n",
    "A simplified sample to cluster data using Azure OpenAI and C#\n",
    "\n",
    "### Step 1: Azure environment\n",
    "\n",
    "This [Azure CLI script](../CreateEnv/CreateEnv.azcli) creates:\n",
    "\n",
    "- an Azure Open AI instance\n",
    "- deploys text-embedding-ada-002 to calculate embeddings\n",
    "\n",
    "The script provides necessary credentials to connect to Azure OpenAI (e.g. API key and endpoint information) and stores them in environment variables.\n",
    "```azurecli\n",
    "$ENV:AZURE_OPENAI_ENDPOINT = $csEndpoint\n",
    "$ENV:AZURE_OPENAI_API_KEY = $csApiKey\n",
    "$ENV:AZURE_OPENAI_DEPLOYMENTNAME = $modelDeploymentName\n",
    "``````\n",
    "\n",
    "### Step 2: Housekeeping \n",
    "\n",
    "- Import nuget packages\n",
    "- Define arbitrary facts \n",
    "- Create an instance of ***OpenAIClient()***\n",
    "\n",
    "Replace `apiEndpoint`, `apiKey` and `embeddingModelDeploymentName` with values from your Azure OpenAI instance."
   ]
  },
  {
   "cell_type": "code",
   "execution_count": 5,
   "metadata": {
    "dotnet_interactive": {
     "language": "csharp"
    },
    "polyglot_notebook": {
     "kernelName": "csharp"
    }
   },
   "outputs": [
    {
     "data": {
      "text/html": [
       "<div><div></div><div></div><div><strong>Installed Packages</strong><ul><li><span>Azure.AI.OpenAI, 1.0.0-beta.6</span></li><li><span>ScottPlot, 4.1.67</span></li><li><span>umap, 1.0.34015</span></li></ul></div></div>"
      ]
     },
     "metadata": {},
     "output_type": "display_data"
    }
   ],
   "source": [
    "#r \"nuget: Azure.AI.OpenAI, 1.0.0-beta.6\"\n",
    "#r \"nuget: ScottPlot, 4.1.67\"\n",
    "#r \"nuget: umap, 1.0.34015\"\n",
    "\n",
    "using Azure.AI.OpenAI;\n",
    "using Azure;\n",
    "using UMAP;\n",
    "using ScottPlot; \n",
    "using System.Drawing;\n",
    "\n",
    "//Define Azure OpenAI information\n",
    "Uri apiEndpoint = new Uri(\"https://Your_Azure_OpenAI_API_endpoint\");\n",
    "string apiKey = \"<<Your Azure OpenAI API key>>\";\n",
    "string embeddingModelDeploymentName = \"<<your Azure OpenAI embedding deployment name>>\";\n",
    "\n",
    "AzureKeyCredential azureKeyCredential = new AzureKeyCredential(apiKey);\n",
    "OpenAIClient openAIClient = new OpenAIClient(apiEndpoint, azureKeyCredential);\n",
    "  \n",
    "//Define arbitrary facts\n",
    "string[] facts = {\n",
    "    \"The operating system Windows 11 was released October 5th, 2021.\", \n",
    "    \"Windows 10 as an operating system was introduced to the market in 2015.\", \n",
    "    \"Discrete manufacturing is a process that produces products in individual, separate pieces.\", \n",
    "}; \n",
    "\n",
    "#!share --from c# facts --as facts\n",
    "#!share --from c# openAIClient --as openAIClient\n",
    "#!share --from c# embeddingModelDeploymentName --as embeddingModelDeploymentName\n"
   ]
  },
  {
   "cell_type": "markdown",
   "metadata": {},
   "source": [
    "### Step 3: Create Embeddings\n",
    "\n",
    "For each fact a vector (embedding) with 1536 dimensions is created. This is done by calling `GetEmbeddingsAsync()` on `openAIClient`"
   ]
  },
  {
   "cell_type": "code",
   "execution_count": 6,
   "metadata": {
    "dotnet_interactive": {
     "language": "csharp"
    },
    "polyglot_notebook": {
     "kernelName": "csharp"
    }
   },
   "outputs": [
    {
     "name": "stdout",
     "output_type": "stream",
     "text": [
      "Vector for fact 'The operating system Windows 11 was released October 5th, 2021.' created!\n",
      "Vector for fact 'Windows 10 as an operating system was introduced to the market in 2015.' created!\n",
      "Vector for fact 'Discrete manufacturing is a process that produces products in individual, separate pieces.' created!\n"
     ]
    }
   ],
   "source": [
    "List<float[]> vectors = new List<float[]>();\n",
    "foreach(string fact in facts) {\n",
    "    EmbeddingsOptions embeddingsOptions = new EmbeddingsOptions(fact);\n",
    "    var modelResponse = await openAIClient.GetEmbeddingsAsync(embeddingModelDeploymentName, embeddingsOptions);\n",
    "    float[] vector = modelResponse.Value.Data[0].Embedding.ToArray<float>();\n",
    "    Console.WriteLine($\"Vector for fact '{fact}' created!\");\n",
    "    vectors.Add(vector);    \n",
    "}\n",
    "\n",
    "#!share --from c# vectors --as vectors"
   ]
  },
  {
   "cell_type": "markdown",
   "metadata": {},
   "source": [
    "### Step 4: Reduce dimensionality\n",
    "\n",
    "The UMAP nuget package is used to reduce the 1536 dimensions of every vector to a 2-dimensional representation."
   ]
  },
  {
   "cell_type": "code",
   "execution_count": 7,
   "metadata": {
    "dotnet_interactive": {
     "language": "csharp"
    },
    "polyglot_notebook": {
     "kernelName": "csharp"
    }
   },
   "outputs": [
    {
     "name": "stdout",
     "output_type": "stream",
     "text": [
      "-4.066317, 9.107991\n",
      "-1.9780208, 19.144762\n",
      "-0.029582918, 15.228906\n"
     ]
    }
   ],
   "source": [
    "//Reduce dimensionality of vectors\n",
    "Umap umap = new Umap(numberOfNeighbors: 2);\n",
    "var numberOfEpochs = umap.InitializeFit(vectors.ToArray());\n",
    "for (int i = 0; i < numberOfEpochs; i++) {\n",
    "    umap.Step();\n",
    "}\n",
    "float[][] embeddings = umap.GetEmbedding();\n",
    "foreach (float[] reducedEmbedding in embeddings) {\n",
    "    Console.WriteLine(string.Join(\", \", reducedEmbedding));\n",
    "}"
   ]
  },
  {
   "cell_type": "markdown",
   "metadata": {},
   "source": [
    "### Step 5: Visualize \n",
    "\n",
    "The 2-dimensional vectors are visualized using the ScottPlot nuget package:"
   ]
  },
  {
   "cell_type": "code",
   "execution_count": 8,
   "metadata": {
    "dotnet_interactive": {
     "language": "csharp"
    },
    "polyglot_notebook": {
     "kernelName": "csharp"
    }
   },
   "outputs": [
    {
     "name": "stdout",
     "output_type": "stream",
     "text": [
      "Saved diagram: vectors.png\r\n"
     ]
    }
   ],
   "source": [
    "string diagramName = \"vectors.png\";\n",
    "\n",
    "Plot plot = new Plot(400, 300);\n",
    "        \n",
    "foreach(float[] embedding in embeddings) {\n",
    "    plot.AddPoint(embedding[0], embedding[1], Color.Black, 5, ScottPlot.MarkerShape.filledCircle); \n",
    "}\n",
    "\n",
    "plot.SaveFig(\"Vectors.png\");\n",
    "\n",
    "Console.WriteLine($\"Saved diagram: {diagramName}\");"
   ]
  },
  {
   "cell_type": "markdown",
   "metadata": {},
   "source": [
    "![](Vectors.png)"
   ]
  }
 ],
 "metadata": {
  "kernelspec": {
   "display_name": ".NET (C#)",
   "language": "C#",
   "name": ".net-csharp"
  },
  "language_info": {
   "name": "polyglot-notebook"
  },
  "polyglot_notebook": {
   "kernelInfo": {
    "defaultKernelName": "csharp",
    "items": [
     {
      "aliases": [],
      "languageName": "csharp",
      "name": "csharp"
     }
    ]
   }
  }
 },
 "nbformat": 4,
 "nbformat_minor": 2
}
